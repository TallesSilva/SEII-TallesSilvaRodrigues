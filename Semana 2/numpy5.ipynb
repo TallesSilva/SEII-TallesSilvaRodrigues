{
 "cells": [
  {
   "cell_type": "code",
   "execution_count": null,
   "source": [
    "import numpy as np\n",
    "import matplotlib.pyplot as plt"
   ],
   "outputs": [],
   "metadata": {}
  },
  {
   "cell_type": "code",
   "execution_count": null,
   "source": [
    "N = 10000\n",
    "x = np.linspace(0, 10, N+1)\n",
    "y = np.exp(-x/10) * np.sin(x)\n",
    "plt.plot(x,y)"
   ],
   "outputs": [],
   "metadata": {}
  }
 ],
 "metadata": {
  "orig_nbformat": 4,
  "language_info": {
   "name": "python"
  }
 },
 "nbformat": 4,
 "nbformat_minor": 2
}
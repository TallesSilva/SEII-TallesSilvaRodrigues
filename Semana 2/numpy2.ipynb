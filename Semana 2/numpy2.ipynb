import numpy as np 
import matplotlib.pyplot as plt 

a1 = np.array([1,2,3,4,5])
a2 = np.zeros(10)
a3 = np.random.randn(10)
a4 = np.linspace(0,10,100)
a5 = np.arange(5, 10, 0.5)

#a = a4/2
#a = a4>3

#print(a1)
#print(a2)
#print(a3)
#print(a4)
#print(a5)
#print(a)

plt.plot(a1, a1**2)
